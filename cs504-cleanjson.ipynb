{
 "cells": [
  {
   "cell_type": "code",
   "execution_count": 1,
   "id": "765c5ffa",
   "metadata": {},
   "outputs": [],
   "source": [
    "import pandas as pd\n",
    "import ast\n",
    "import numpy as np"
   ]
  },
  {
   "cell_type": "code",
   "execution_count": 4,
   "id": "c4c2eb8a",
   "metadata": {},
   "outputs": [],
   "source": [
    "credits = pd.read_csv(\"C:/Users/andre/OneDrive/Documents/Charis/credits.csv\")\n",
    "movies = pd.read_csv(\"C:/Users/andre/OneDrive/Documents/Charis/movies_metadata.csv\")"
   ]
  },
  {
   "cell_type": "code",
   "execution_count": 5,
   "id": "24f70fc0",
   "metadata": {},
   "outputs": [],
   "source": [
    "credits['crew'].fillna('[]', inplace=True)\n",
    "credits['cast'].fillna('[]', inplace=True)\n",
    "credits['crew']=credits['crew'].apply(ast.literal_eval)\n",
    "credits['cast']=credits['cast'].apply(ast.literal_eval)"
   ]
  },
  {
   "cell_type": "code",
   "execution_count": 6,
   "id": "d23c9748",
   "metadata": {},
   "outputs": [],
   "source": [
    "def get_actor(namedict):\n",
    "    result={}\n",
    "    try:\n",
    "        result['actor_1_name']=[x['name'] for x in namedict if x['order']==0][0]\n",
    "        result['actor_2_name']=[x['name'] for x in namedict if x['order']==1][0]\n",
    "        result['actor_3_name']=[x['name'] for x in namedict if x['order']==2][0]\n",
    "               \n",
    "    except:\n",
    "        name=np.nan\n",
    "    return result\n",
    "        \n",
    "def get_director(namedict):\n",
    "    try:\n",
    "        name=[x['name'] for x in namedict if x['job']=='Director'][0]\n",
    "    except:\n",
    "        name=np.nan\n",
    "    return name\n",
    "\n",
    "def get_writer(namedict):\n",
    "    try:\n",
    "        name=[x['name'] for x in namedict if x['job']=='Screenplay' or x['job']=='Writer'][0]\n",
    "    except:\n",
    "        name=np.nan\n",
    "    return name\n",
    "\n",
    "#Creating two additional columns for director and writer \n",
    "credits['director']=credits['crew'].apply(get_director)\n",
    "credits['writer']=credits['crew'].apply(get_writer)\n",
    "\n",
    "#creating the 3 main actors for the movie\n",
    "credits['actor_1_name']   =credits['cast'].apply(get_actor).apply(lambda x :x.get('actor_1_name',''))\n",
    "credits['actor_2_name']   =credits['cast'].apply(get_actor).apply(lambda x :x.get('actor_2_name',''))\n",
    "credits['actor_3_name']   =credits['cast'].apply(get_actor).apply(lambda x :x.get('actor_3_name',''))"
   ]
  },
  {
   "cell_type": "code",
   "execution_count": 7,
   "id": "0855103a",
   "metadata": {},
   "outputs": [],
   "source": [
    "#Dropping cast and cast and crew columns as no longer needed\n",
    "credits.drop(['cast','crew'], inplace=True, axis=1)"
   ]
  },
  {
   "cell_type": "code",
   "execution_count": 8,
   "id": "8cd86d6b",
   "metadata": {
    "scrolled": false
   },
   "outputs": [
    {
     "data": {
      "text/html": [
       "<div>\n",
       "<style scoped>\n",
       "    .dataframe tbody tr th:only-of-type {\n",
       "        vertical-align: middle;\n",
       "    }\n",
       "\n",
       "    .dataframe tbody tr th {\n",
       "        vertical-align: top;\n",
       "    }\n",
       "\n",
       "    .dataframe thead th {\n",
       "        text-align: right;\n",
       "    }\n",
       "</style>\n",
       "<table border=\"1\" class=\"dataframe\">\n",
       "  <thead>\n",
       "    <tr style=\"text-align: right;\">\n",
       "      <th></th>\n",
       "      <th>id</th>\n",
       "      <th>director</th>\n",
       "      <th>writer</th>\n",
       "      <th>actor_1_name</th>\n",
       "      <th>actor_2_name</th>\n",
       "      <th>actor_3_name</th>\n",
       "    </tr>\n",
       "  </thead>\n",
       "  <tbody>\n",
       "    <tr>\n",
       "      <th>0</th>\n",
       "      <td>862</td>\n",
       "      <td>John Lasseter</td>\n",
       "      <td>Joss Whedon</td>\n",
       "      <td>Tom Hanks</td>\n",
       "      <td>Tim Allen</td>\n",
       "      <td>Don Rickles</td>\n",
       "    </tr>\n",
       "    <tr>\n",
       "      <th>1</th>\n",
       "      <td>8844</td>\n",
       "      <td>Joe Johnston</td>\n",
       "      <td>Jonathan Hensleigh</td>\n",
       "      <td>Robin Williams</td>\n",
       "      <td>Jonathan Hyde</td>\n",
       "      <td>Kirsten Dunst</td>\n",
       "    </tr>\n",
       "    <tr>\n",
       "      <th>2</th>\n",
       "      <td>15602</td>\n",
       "      <td>Howard Deutch</td>\n",
       "      <td>Mark Steven Johnson</td>\n",
       "      <td>Walter Matthau</td>\n",
       "      <td>Jack Lemmon</td>\n",
       "      <td>Ann-Margret</td>\n",
       "    </tr>\n",
       "    <tr>\n",
       "      <th>3</th>\n",
       "      <td>31357</td>\n",
       "      <td>Forest Whitaker</td>\n",
       "      <td>Ronald Bass</td>\n",
       "      <td>Whitney Houston</td>\n",
       "      <td>Angela Bassett</td>\n",
       "      <td>Loretta Devine</td>\n",
       "    </tr>\n",
       "    <tr>\n",
       "      <th>4</th>\n",
       "      <td>11862</td>\n",
       "      <td>Charles Shyer</td>\n",
       "      <td>Nancy Meyers</td>\n",
       "      <td>Steve Martin</td>\n",
       "      <td>Diane Keaton</td>\n",
       "      <td>Martin Short</td>\n",
       "    </tr>\n",
       "    <tr>\n",
       "      <th>5</th>\n",
       "      <td>949</td>\n",
       "      <td>Michael Mann</td>\n",
       "      <td>Michael Mann</td>\n",
       "      <td>Al Pacino</td>\n",
       "      <td>Robert De Niro</td>\n",
       "      <td>Val Kilmer</td>\n",
       "    </tr>\n",
       "    <tr>\n",
       "      <th>6</th>\n",
       "      <td>11860</td>\n",
       "      <td>Sydney Pollack</td>\n",
       "      <td>Barbara Benedek</td>\n",
       "      <td>Harrison Ford</td>\n",
       "      <td>Julia Ormond</td>\n",
       "      <td>Greg Kinnear</td>\n",
       "    </tr>\n",
       "    <tr>\n",
       "      <th>7</th>\n",
       "      <td>45325</td>\n",
       "      <td>Peter Hewitt</td>\n",
       "      <td>David Loughery</td>\n",
       "      <td>Jonathan Taylor Thomas</td>\n",
       "      <td>Brad Renfro</td>\n",
       "      <td>Rachael Leigh Cook</td>\n",
       "    </tr>\n",
       "    <tr>\n",
       "      <th>8</th>\n",
       "      <td>9091</td>\n",
       "      <td>Peter Hyams</td>\n",
       "      <td>Karen Elise Baldwin</td>\n",
       "      <td>Jean-Claude Van Damme</td>\n",
       "      <td>Powers Boothe</td>\n",
       "      <td>Dorian Harewood</td>\n",
       "    </tr>\n",
       "    <tr>\n",
       "      <th>9</th>\n",
       "      <td>710</td>\n",
       "      <td>Martin Campbell</td>\n",
       "      <td>Jeffrey Caine</td>\n",
       "      <td>Pierce Brosnan</td>\n",
       "      <td>Sean Bean</td>\n",
       "      <td>Izabella Scorupco</td>\n",
       "    </tr>\n",
       "  </tbody>\n",
       "</table>\n",
       "</div>"
      ],
      "text/plain": [
       "      id         director               writer            actor_1_name  \\\n",
       "0    862    John Lasseter          Joss Whedon               Tom Hanks   \n",
       "1   8844     Joe Johnston   Jonathan Hensleigh          Robin Williams   \n",
       "2  15602    Howard Deutch  Mark Steven Johnson          Walter Matthau   \n",
       "3  31357  Forest Whitaker          Ronald Bass         Whitney Houston   \n",
       "4  11862    Charles Shyer         Nancy Meyers            Steve Martin   \n",
       "5    949     Michael Mann         Michael Mann               Al Pacino   \n",
       "6  11860   Sydney Pollack      Barbara Benedek           Harrison Ford   \n",
       "7  45325     Peter Hewitt       David Loughery  Jonathan Taylor Thomas   \n",
       "8   9091      Peter Hyams  Karen Elise Baldwin   Jean-Claude Van Damme   \n",
       "9    710  Martin Campbell        Jeffrey Caine          Pierce Brosnan   \n",
       "\n",
       "     actor_2_name        actor_3_name  \n",
       "0       Tim Allen         Don Rickles  \n",
       "1   Jonathan Hyde       Kirsten Dunst  \n",
       "2     Jack Lemmon         Ann-Margret  \n",
       "3  Angela Bassett      Loretta Devine  \n",
       "4    Diane Keaton        Martin Short  \n",
       "5  Robert De Niro          Val Kilmer  \n",
       "6    Julia Ormond        Greg Kinnear  \n",
       "7     Brad Renfro  Rachael Leigh Cook  \n",
       "8   Powers Boothe     Dorian Harewood  \n",
       "9       Sean Bean   Izabella Scorupco  "
      ]
     },
     "execution_count": 8,
     "metadata": {},
     "output_type": "execute_result"
    }
   ],
   "source": [
    "credits.head(10)"
   ]
  },
  {
   "cell_type": "code",
   "execution_count": 7,
   "id": "a1d4b60e",
   "metadata": {},
   "outputs": [],
   "source": [
    "credits.to_csv(\"C:/Users/andre/OneDrive/Documents/Charis/credits_final.csv\")"
   ]
  },
  {
   "cell_type": "code",
   "execution_count": 9,
   "id": "10777d07",
   "metadata": {},
   "outputs": [],
   "source": [
    "# which rows actually have genres and not a blank list\n",
    "has_genres_mask = movies['genres'] != '[]'\n",
    "\n",
    "genres = movies['genres'][has_genres_mask]"
   ]
  },
  {
   "cell_type": "code",
   "execution_count": 10,
   "id": "c1cc44dc",
   "metadata": {},
   "outputs": [],
   "source": [
    "def to_labels(genres_list):\n",
    "    genres_list = ast.literal_eval(genres_list)\n",
    "    return [g['name'] for g in genres_list]"
   ]
  },
  {
   "cell_type": "code",
   "execution_count": 11,
   "id": "f3fea6fa",
   "metadata": {},
   "outputs": [
    {
     "data": {
      "text/plain": [
       "0     [Animation, Comedy, Family]\n",
       "1    [Adventure, Fantasy, Family]\n",
       "2               [Romance, Comedy]\n",
       "3        [Comedy, Drama, Romance]\n",
       "4                        [Comedy]\n",
       "Name: genres, dtype: object"
      ]
     },
     "execution_count": 11,
     "metadata": {},
     "output_type": "execute_result"
    }
   ],
   "source": [
    "genres_strings = genres.apply(to_labels)\n",
    "genres_strings.head()"
   ]
  }
 ],
 "metadata": {
  "kernelspec": {
   "display_name": "Python 3",
   "language": "python",
   "name": "python3"
  },
  "language_info": {
   "codemirror_mode": {
    "name": "ipython",
    "version": 3
   },
   "file_extension": ".py",
   "mimetype": "text/x-python",
   "name": "python",
   "nbconvert_exporter": "python",
   "pygments_lexer": "ipython3",
   "version": "3.8.8"
  }
 },
 "nbformat": 4,
 "nbformat_minor": 5
}
