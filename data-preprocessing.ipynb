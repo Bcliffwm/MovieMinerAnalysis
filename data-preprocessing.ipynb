{
 "cells": [
  {
   "cell_type": "code",
   "execution_count": null,
   "id": "09913846-e595-4d7d-a062-93ed05c06048",
   "metadata": {},
   "outputs": [],
   "source": [
    "import pandas as pd\n",
    "import seaborn as sns\n",
    "#import wptools as wiki"
   ]
  },
  {
   "cell_type": "code",
   "execution_count": null,
   "id": "2ca73852-7151-45a3-92e1-4ef926ed1294",
   "metadata": {},
   "outputs": [],
   "source": [
    "movies_metadata_df = pd.read_csv('movies_metadata.csv')"
   ]
  },
  {
   "cell_type": "code",
   "execution_count": null,
   "id": "74c6296f-9cde-412f-a566-9075b6645f75",
   "metadata": {},
   "outputs": [],
   "source": [
    "movies_metadata_df.shape"
   ]
  },
  {
   "cell_type": "code",
   "execution_count": null,
   "id": "e1c3a6dc-a80f-41d6-94ea-4368c23b8eb5",
   "metadata": {},
   "outputs": [],
   "source": [
    "movies_metadata_df.describe()"
   ]
  },
  {
   "cell_type": "code",
   "execution_count": null,
   "id": "05b793a2-9e49-453a-9997-0a8b05b8d403",
   "metadata": {},
   "outputs": [],
   "source": [
    "movies_metadata_df.columns"
   ]
  },
  {
   "cell_type": "code",
   "execution_count": null,
   "id": "9d4d170b-427e-404a-a2a3-a7bd40efc89b",
   "metadata": {},
   "outputs": [],
   "source": [
    "movies_metadata_df.adult.value_counts()"
   ]
  },
  {
   "cell_type": "code",
   "execution_count": null,
   "id": "d541c84e-91de-4bd5-a923-d2aec5b87a29",
   "metadata": {},
   "outputs": [],
   "source": [
    "movies_metadata_df = movies_metadata_df[movies_metadata_df.adult == 'False']"
   ]
  },
  {
   "cell_type": "code",
   "execution_count": null,
   "id": "dd8d3d5f-c4a7-49cd-80df-ee1feecd7646",
   "metadata": {},
   "outputs": [],
   "source": [
    "movies_metadata_df.drop('adult', axis=1, inplace=True)"
   ]
  },
  {
   "cell_type": "code",
   "execution_count": null,
   "id": "67aa79da-acd9-4b20-8421-b9bb622957d4",
   "metadata": {},
   "outputs": [],
   "source": [
    "movies_metadata_df.belongs_to_collection.value_counts().sum()"
   ]
  },
  {
   "cell_type": "code",
   "execution_count": null,
   "id": "48e4dbbe-b158-4b1d-b4cc-f8c51d24a84d",
   "metadata": {},
   "outputs": [],
   "source": [
    "movies_metadata_df.drop('belongs_to_collection', axis=1, inplace=True)"
   ]
  },
  {
   "cell_type": "code",
   "execution_count": null,
   "id": "4b618172-7708-4c84-beeb-a1fe6ecb7a68",
   "metadata": {},
   "outputs": [],
   "source": [
    "sns.histplot(movies_metadata_df.budget)"
   ]
  },
  {
   "cell_type": "code",
   "execution_count": null,
   "id": "36afb3be-1753-4edc-a8ec-e394d56ea7b7",
   "metadata": {},
   "outputs": [],
   "source": [
    "movies_metadata_df.budget.value_counts()"
   ]
  },
  {
   "cell_type": "code",
   "execution_count": null,
   "id": "1f884608-2370-4f51-9b7c-493bf0a18078",
   "metadata": {},
   "outputs": [],
   "source": [
    "pd.set_option('display.max_columns', None)\n",
    "no_budget_df = movies_metadata_df[movies_metadata_df['budget'] == '0']\n",
    "no_budget_df.head(50)"
   ]
  },
  {
   "cell_type": "code",
   "execution_count": null,
   "id": "3e6ff38e-362c-43ba-a709-4ddad30b2dc7",
   "metadata": {},
   "outputs": [],
   "source": [
    "%%time\n",
    "budget={}\n",
    "for idx, data in no_budget_df.iterrows(): \n",
    "    so = wiki.page(data.original_title, silent=True).get_parse().data['infobox']\n",
    "    if so.has_key('budget'):\n",
    "    \n",
    "    \n",
    "    if not idx%100:\n",
    "        break"
   ]
  },
  {
   "cell_type": "code",
   "execution_count": null,
   "id": "ce1ba89e-a33f-4c59-96e6-769b007673a2",
   "metadata": {},
   "outputs": [],
   "source": [
    "wiki.page('Grumpier Old Men', silent=True).get_parse().data['infobox']['budget']"
   ]
  },
  {
   "cell_type": "code",
   "execution_count": null,
   "id": "88b00760-06b3-4b1a-8cfc-56a6ecaa2ccf",
   "metadata": {},
   "outputs": [],
   "source": [
    "clean_df = movies_metadata_df.loc[movies_metadata_df.budget != '0']"
   ]
  },
  {
   "cell_type": "code",
   "execution_count": null,
   "id": "84dd1048-d4f8-48cf-9ef4-d551d8d874f1",
   "metadata": {},
   "outputs": [],
   "source": [
    "clean_df.shape"
   ]
  },
  {
   "cell_type": "code",
   "execution_count": null,
   "id": "fdcad5c5-1dc2-46f9-becf-8c3f14f3a044",
   "metadata": {},
   "outputs": [],
   "source": [
    "movies_metadata_df[movies_metadata_df.revenue != 0].revenue.value_counts()"
   ]
  },
  {
   "cell_type": "code",
   "execution_count": null,
   "id": "8c51672c-b607-43d8-9d76-2081dc6d7a22",
   "metadata": {},
   "outputs": [],
   "source": []
  }
 ],
 "metadata": {
  "kernelspec": {
   "display_name": "Python 3 (ipykernel)",
   "language": "python",
   "name": "python3"
  },
  "language_info": {
   "codemirror_mode": {
    "name": "ipython",
    "version": 3
   },
   "file_extension": ".py",
   "mimetype": "text/x-python",
   "name": "python",
   "nbconvert_exporter": "python",
   "pygments_lexer": "ipython3",
   "version": "3.7.4"
  }
 },
 "nbformat": 4,
 "nbformat_minor": 5
}
