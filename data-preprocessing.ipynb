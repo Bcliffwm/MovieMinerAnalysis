{
 "cells": [
  {
   "cell_type": "code",
   "execution_count": 1,
   "id": "09913846-e595-4d7d-a062-93ed05c06048",
   "metadata": {},
   "outputs": [],
   "source": [
    "import opendatasets as od\n",
    "#import zipfile\n",
    "import requests\n",
    "import pandas as pd\n",
    "import seaborn as sns\n",
    "import ast\n",
    "#import wptools as wiki"
   ]
  },
  {
   "cell_type": "markdown",
   "id": "4ae4d017",
   "metadata": {},
   "source": [
    "## After uncomment and run cell below, do not run again"
   ]
  },
  {
   "cell_type": "code",
   "execution_count": 2,
   "id": "95ff8e2c",
   "metadata": {},
   "outputs": [
    {
     "name": "stdout",
     "output_type": "stream",
     "text": [
      "Please provide your Kaggle credentials to download this dataset. Learn more: http://bit.ly/kaggle-creds\n",
      "Your Kaggle username:"
     ]
    },
    {
     "name": "stdin",
     "output_type": "stream",
     "text": [
      "  jarrodmm\n"
     ]
    },
    {
     "name": "stdout",
     "output_type": "stream",
     "text": [
      "Your Kaggle Key:"
     ]
    },
    {
     "name": "stdin",
     "output_type": "stream",
     "text": [
      "  ········\n"
     ]
    },
    {
     "name": "stdout",
     "output_type": "stream",
     "text": [
      "Downloading the-movies-dataset.zip to .\\the-movies-dataset\n"
     ]
    },
    {
     "name": "stderr",
     "output_type": "stream",
     "text": [
      "100%|███████████████████████████████████████████████████████████████████████████████| 228M/228M [01:01<00:00, 3.91MB/s]\n"
     ]
    },
    {
     "name": "stdout",
     "output_type": "stream",
     "text": [
      "\n"
     ]
    }
   ],
   "source": [
    "od.download('https://www.kaggle.com/datasets/rounakbanik/the-movies-dataset')"
   ]
  },
  {
   "cell_type": "code",
   "execution_count": 3,
   "id": "5f595fda",
   "metadata": {},
   "outputs": [],
   "source": [
    "# Directory string for where all the csv data is located\n",
    "moviedir = './the-movies-dataset/'"
   ]
  },
  {
   "cell_type": "code",
   "execution_count": 4,
   "id": "2ca73852-7151-45a3-92e1-4ef926ed1294",
   "metadata": {},
   "outputs": [
    {
     "name": "stderr",
     "output_type": "stream",
     "text": [
      "C:\\Users\\dakers\\AppData\\Local\\Temp\\ipykernel_7800\\3185108381.py:1: DtypeWarning: Columns (10) have mixed types. Specify dtype option on import or set low_memory=False.\n",
      "  movies_metadata_df = pd.read_csv(moviedir+'movies_metadata.csv')\n"
     ]
    }
   ],
   "source": [
    "movies_metadata_df = pd.read_csv(moviedir+'movies_metadata.csv')"
   ]
  },
  {
   "cell_type": "code",
   "execution_count": 14,
   "id": "74c6296f-9cde-412f-a566-9075b6645f75",
   "metadata": {},
   "outputs": [
    {
     "data": {
      "text/plain": [
       "(45466, 24)"
      ]
     },
     "execution_count": 14,
     "metadata": {},
     "output_type": "execute_result"
    }
   ],
   "source": [
    "movies_metadata_df.shape"
   ]
  },
  {
   "cell_type": "code",
   "execution_count": 15,
   "id": "e1c3a6dc-a80f-41d6-94ea-4368c23b8eb5",
   "metadata": {},
   "outputs": [
    {
     "data": {
      "text/html": [
       "<div>\n",
       "<style scoped>\n",
       "    .dataframe tbody tr th:only-of-type {\n",
       "        vertical-align: middle;\n",
       "    }\n",
       "\n",
       "    .dataframe tbody tr th {\n",
       "        vertical-align: top;\n",
       "    }\n",
       "\n",
       "    .dataframe thead th {\n",
       "        text-align: right;\n",
       "    }\n",
       "</style>\n",
       "<table border=\"1\" class=\"dataframe\">\n",
       "  <thead>\n",
       "    <tr style=\"text-align: right;\">\n",
       "      <th></th>\n",
       "      <th>revenue</th>\n",
       "      <th>runtime</th>\n",
       "      <th>vote_average</th>\n",
       "      <th>vote_count</th>\n",
       "    </tr>\n",
       "  </thead>\n",
       "  <tbody>\n",
       "    <tr>\n",
       "      <th>count</th>\n",
       "      <td>4.546000e+04</td>\n",
       "      <td>45203.000000</td>\n",
       "      <td>45460.000000</td>\n",
       "      <td>45460.000000</td>\n",
       "    </tr>\n",
       "    <tr>\n",
       "      <th>mean</th>\n",
       "      <td>1.120935e+07</td>\n",
       "      <td>94.128199</td>\n",
       "      <td>5.618207</td>\n",
       "      <td>109.897338</td>\n",
       "    </tr>\n",
       "    <tr>\n",
       "      <th>std</th>\n",
       "      <td>6.433225e+07</td>\n",
       "      <td>38.407810</td>\n",
       "      <td>1.924216</td>\n",
       "      <td>491.310374</td>\n",
       "    </tr>\n",
       "    <tr>\n",
       "      <th>min</th>\n",
       "      <td>0.000000e+00</td>\n",
       "      <td>0.000000</td>\n",
       "      <td>0.000000</td>\n",
       "      <td>0.000000</td>\n",
       "    </tr>\n",
       "    <tr>\n",
       "      <th>25%</th>\n",
       "      <td>0.000000e+00</td>\n",
       "      <td>85.000000</td>\n",
       "      <td>5.000000</td>\n",
       "      <td>3.000000</td>\n",
       "    </tr>\n",
       "    <tr>\n",
       "      <th>50%</th>\n",
       "      <td>0.000000e+00</td>\n",
       "      <td>95.000000</td>\n",
       "      <td>6.000000</td>\n",
       "      <td>10.000000</td>\n",
       "    </tr>\n",
       "    <tr>\n",
       "      <th>75%</th>\n",
       "      <td>0.000000e+00</td>\n",
       "      <td>107.000000</td>\n",
       "      <td>6.800000</td>\n",
       "      <td>34.000000</td>\n",
       "    </tr>\n",
       "    <tr>\n",
       "      <th>max</th>\n",
       "      <td>2.787965e+09</td>\n",
       "      <td>1256.000000</td>\n",
       "      <td>10.000000</td>\n",
       "      <td>14075.000000</td>\n",
       "    </tr>\n",
       "  </tbody>\n",
       "</table>\n",
       "</div>"
      ],
      "text/plain": [
       "            revenue       runtime  vote_average    vote_count\n",
       "count  4.546000e+04  45203.000000  45460.000000  45460.000000\n",
       "mean   1.120935e+07     94.128199      5.618207    109.897338\n",
       "std    6.433225e+07     38.407810      1.924216    491.310374\n",
       "min    0.000000e+00      0.000000      0.000000      0.000000\n",
       "25%    0.000000e+00     85.000000      5.000000      3.000000\n",
       "50%    0.000000e+00     95.000000      6.000000     10.000000\n",
       "75%    0.000000e+00    107.000000      6.800000     34.000000\n",
       "max    2.787965e+09   1256.000000     10.000000  14075.000000"
      ]
     },
     "execution_count": 15,
     "metadata": {},
     "output_type": "execute_result"
    }
   ],
   "source": [
    "movies_metadata_df.describe()"
   ]
  },
  {
   "cell_type": "code",
   "execution_count": null,
   "id": "05b793a2-9e49-453a-9997-0a8b05b8d403",
   "metadata": {},
   "outputs": [],
   "source": [
    "movies_metadata_df.columns"
   ]
  },
  {
   "cell_type": "code",
   "execution_count": null,
   "id": "69e9a24a",
   "metadata": {},
   "outputs": [],
   "source": [
    "# Printing each data type\n",
    "display(movies_metadata_df.dtypes)"
   ]
  },
  {
   "cell_type": "code",
   "execution_count": null,
   "id": "9d4d170b-427e-404a-a2a3-a7bd40efc89b",
   "metadata": {},
   "outputs": [],
   "source": [
    "movies_metadata_df.adult.value_counts()"
   ]
  },
  {
   "cell_type": "code",
   "execution_count": null,
   "id": "d541c84e-91de-4bd5-a923-d2aec5b87a29",
   "metadata": {},
   "outputs": [],
   "source": [
    "movies_metadata_df = movies_metadata_df[movies_metadata_df.adult == 'False']"
   ]
  },
  {
   "cell_type": "code",
   "execution_count": null,
   "id": "dd8d3d5f-c4a7-49cd-80df-ee1feecd7646",
   "metadata": {},
   "outputs": [],
   "source": [
    "# Dropping movies with adult label\n",
    "# movies_metadata_df.drop('adult', axis=1, inplace=True)"
   ]
  },
  {
   "cell_type": "code",
   "execution_count": null,
   "id": "67aa79da-acd9-4b20-8421-b9bb622957d4",
   "metadata": {},
   "outputs": [],
   "source": [
    "movies_metadata_df.belongs_to_collection.value_counts().sum()"
   ]
  },
  {
   "cell_type": "code",
   "execution_count": null,
   "id": "56a87db0",
   "metadata": {},
   "outputs": [],
   "source": [
    "movies_metadata_df.head(2)"
   ]
  },
  {
   "cell_type": "code",
   "execution_count": null,
   "id": "82a37766",
   "metadata": {},
   "outputs": [],
   "source": [
    "len(movies_metadata_df[['poster_path', 'spoken_languages']])"
   ]
  },
  {
   "cell_type": "code",
   "execution_count": null,
   "id": "6c2356a7",
   "metadata": {},
   "outputs": [],
   "source": [
    "# this cell takes string literal list and converts it to regular Python list\n",
    "\n",
    "stringtest = movies_metadata_df['spoken_languages'][19729]\n",
    "\n",
    "print(stringtest)"
   ]
  },
  {
   "cell_type": "code",
   "execution_count": null,
   "id": "6c0a44b7",
   "metadata": {},
   "outputs": [],
   "source": [
    "languages_list = []\n",
    "for rowindx, (indx, values) in enumerate(movies_metadata_df['spoken_languages'].iteritems()):\n",
    "    print(rowindx, values, len(values))\n",
    "    #languages_list.append(ast.literal_eval(values)[0].get('name'))\n",
    "#languages_list[0]"
   ]
  },
  {
   "cell_type": "code",
   "execution_count": null,
   "id": "92ac2848",
   "metadata": {},
   "outputs": [],
   "source": [
    "type(ast.literal_eval(movies_metadata_df['spoken_languages'][1]))"
   ]
  },
  {
   "cell_type": "code",
   "execution_count": null,
   "id": "18bd7dac",
   "metadata": {},
   "outputs": [],
   "source": []
  },
  {
   "cell_type": "code",
   "execution_count": null,
   "id": "dddf244d",
   "metadata": {},
   "outputs": [],
   "source": [
    "# language_list = [x[0].get('name') if type(isinstance(x,list)) else 'English' for x in ast.literal_eval(movies_metadata_df['spoken_languages'])]\n",
    "# language_list"
   ]
  },
  {
   "cell_type": "code",
   "execution_count": null,
   "id": "48e4dbbe-b158-4b1d-b4cc-f8c51d24a84d",
   "metadata": {},
   "outputs": [],
   "source": [
    "movies_metadata_df.drop(['adult', 'belongs_to_collection'], axis=1, inplace=True)"
   ]
  },
  {
   "cell_type": "code",
   "execution_count": 16,
   "id": "4b618172-7708-4c84-beeb-a1fe6ecb7a68",
   "metadata": {},
   "outputs": [
    {
     "data": {
      "text/plain": [
       "<AxesSubplot: xlabel='budget', ylabel='Count'>"
      ]
     },
     "execution_count": 16,
     "metadata": {},
     "output_type": "execute_result"
    },
    {
     "data": {
      "image/png": "[encoded data removed]",
      "text/plain": [
       "<Figure size 640x480 with 1 Axes>"
      ]
     },
     "metadata": {},
     "output_type": "display_data"
    }
   ],
   "source": [
    "sns.histplot(movies_metadata_df.budget)"
   ]
  },
  {
   "cell_type": "code",
   "execution_count": 17,
   "id": "36afb3be-1753-4edc-a8ec-e394d56ea7b7",
   "metadata": {},
   "outputs": [
    {
     "data": {
      "text/plain": [
       "0           36573\n",
       "5000000       286\n",
       "10000000      259\n",
       "20000000      243\n",
       "2000000       242\n",
       "            ...  \n",
       "923             1\n",
       "72500000        1\n",
       "2160000         1\n",
       "4439832         1\n",
       "1254040         1\n",
       "Name: budget, Length: 1226, dtype: int64"
      ]
     },
     "execution_count": 17,
     "metadata": {},
     "output_type": "execute_result"
    }
   ],
   "source": [
    "movies_metadata_df.budget.value_counts()"
   ]
  },
  {
   "cell_type": "code",
   "execution_count": null,
   "id": "1f884608-2370-4f51-9b7c-493bf0a18078",
   "metadata": {},
   "outputs": [],
   "source": [
    "pd.set_option('display.max_columns', None)\n",
    "no_budget_df = movies_metadata_df[movies_metadata_df['budget'] == '0']\n",
    "no_budget_df.head(50)"
   ]
  },
  {
   "cell_type": "code",
   "execution_count": null,
   "id": "3e6ff38e-362c-43ba-a709-4ddad30b2dc7",
   "metadata": {},
   "outputs": [],
   "source": [
    "# %%time\n",
    "# budget={}\n",
    "# for idx, data in no_budget_df.iterrows(): \n",
    "#     so = wiki.page(data.original_title, silent=True).get_parse().data['infobox']\n",
    "#     if so.has_key('budget'):\n",
    "    \n",
    "    \n",
    "#     if not idx%100:\n",
    "#         break"
   ]
  },
  {
   "cell_type": "code",
   "execution_count": null,
   "id": "ce1ba89e-a33f-4c59-96e6-769b007673a2",
   "metadata": {},
   "outputs": [],
   "source": [
    "# wiki.page('Grumpier Old Men', silent=True).get_parse().data['infobox']['budget']"
   ]
  },
  {
   "cell_type": "code",
   "execution_count": null,
   "id": "88b00760-06b3-4b1a-8cfc-56a6ecaa2ccf",
   "metadata": {},
   "outputs": [],
   "source": [
    "# clean_df = movies_metadata_df.loc[movies_metadata_df.budget != '0']"
   ]
  },
  {
   "cell_type": "code",
   "execution_count": null,
   "id": "84dd1048-d4f8-48cf-9ef4-d551d8d874f1",
   "metadata": {},
   "outputs": [],
   "source": [
    "# clean_df.shape"
   ]
  },
  {
   "cell_type": "code",
   "execution_count": null,
   "id": "fdcad5c5-1dc2-46f9-becf-8c3f14f3a044",
   "metadata": {},
   "outputs": [],
   "source": [
    "movies_metadata_df[movies_metadata_df.revenue != 0].revenue.value_counts()"
   ]
  },
  {
   "cell_type": "code",
   "execution_count": null,
   "id": "8c51672c-b607-43d8-9d76-2081dc6d7a22",
   "metadata": {},
   "outputs": [],
   "source": []
  }
 ],
 "metadata": {
  "kernelspec": {
   "display_name": "Python 3 (ipykernel)",
   "language": "python",
   "name": "python3"
  },
  "language_info": {
   "codemirror_mode": {
    "name": "ipython",
    "version": 3
   },
   "file_extension": ".py",
   "mimetype": "text/x-python",
   "name": "python",
   "nbconvert_exporter": "python",
   "pygments_lexer": "ipython3",
   "version": "3.11.0"
  }
 },
 "nbformat": 4,
 "nbformat_minor": 5
}
